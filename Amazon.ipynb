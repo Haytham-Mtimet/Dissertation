{
 "cells": [
  {
   "cell_type": "code",
   "execution_count": null,
   "id": "9765087b",
   "metadata": {},
   "outputs": [],
   "source": [
    "import numpy as np\n",
    "import pandas as pd\n",
    "import matplotlib.pyplot as plt\n",
    "from sklearn.metrics import mean_squared_error\n",
    "from sklearn.preprocessing import MinMaxScaler\n",
    "from sklearn.model_selection import train_test_split, GridSearchCV"
   ]
  },
  {
   "cell_type": "code",
   "execution_count": null,
   "id": "a3987adb",
   "metadata": {},
   "outputs": [],
   "source": [
    "import plotly as py\n",
    "import plotly.io as pio\n",
    "import plotly.graph_objects as go\n",
    "from plotly.subplots import make_subplots\n",
    "from plotly.offline import download_plotlyjs, init_notebook_mode, plot, iplot"
   ]
  },
  {
   "cell_type": "code",
   "execution_count": null,
   "id": "07b8aabd",
   "metadata": {},
   "outputs": [],
   "source": [
    "df1= pd.read_csv('Amazon.csv')"
   ]
  },
  {
   "cell_type": "code",
   "execution_count": null,
   "id": "b5424d12",
   "metadata": {},
   "outputs": [],
   "source": [
    "df2= pd.read_csv('Aamazontweet.csv')"
   ]
  },
  {
   "cell_type": "code",
   "execution_count": null,
   "id": "ebf5daaa",
   "metadata": {},
   "outputs": [],
   "source": [
    "data =pd.merge(df1, df2, on='Date', how='left')"
   ]
  },
  {
   "cell_type": "code",
   "execution_count": null,
   "id": "b541081f",
   "metadata": {},
   "outputs": [],
   "source": [
    "data"
   ]
  },
  {
   "cell_type": "code",
   "execution_count": null,
   "id": "2c4a8955",
   "metadata": {},
   "outputs": [],
   "source": [
    "data =data.drop(['Volume', 'Open', 'Low', 'High','Unnamed: 0_x',  'Unnamed: 0_y', 'Adj Close'  ], 1)"
   ]
  },
  {
   "cell_type": "code",
   "execution_count": null,
   "id": "7982782b",
   "metadata": {},
   "outputs": [],
   "source": [
    "data['Sen_Avr_3'] = data['Avg_Compound'].rolling(3).mean().shift()\n",
    "data['Sen_Avr_7'] = data['Avg_Compound'].rolling(7).mean().shift()"
   ]
  },
  {
   "cell_type": "code",
   "execution_count": null,
   "id": "12045e56",
   "metadata": {},
   "outputs": [],
   "source": [
    "from sklearn.impute import KNNImputer\n",
    "imputer = KNNImputer(n_neighbors=2, weights=\"uniform\")"
   ]
  },
  {
   "cell_type": "code",
   "execution_count": null,
   "id": "ca30acd8",
   "metadata": {},
   "outputs": [],
   "source": [
    "data['Close'] = data['Close'].shift(-1)"
   ]
  },
  {
   "cell_type": "code",
   "execution_count": null,
   "id": "6431ecb2",
   "metadata": {},
   "outputs": [],
   "source": [
    "data = data.iloc[25:] # Because of moving averages and MACD line\n",
    "data = data[:-1]      # Because of shifting close price\n",
    "\n",
    "data.index = range(len(data))"
   ]
  },
  {
   "cell_type": "code",
   "execution_count": null,
   "id": "14986e8f",
   "metadata": {},
   "outputs": [],
   "source": [
    "validation_size  = 0.01\n",
    "\n",
    "data_train = data[:-int(data.shape[0]*validation_size)]"
   ]
  },
  {
   "cell_type": "code",
   "execution_count": null,
   "id": "8430747c",
   "metadata": {},
   "outputs": [],
   "source": [
    "data_validation = data[-int(data.shape[0]*validation_size):]"
   ]
  },
  {
   "cell_type": "code",
   "execution_count": null,
   "id": "3b72c4b1",
   "metadata": {},
   "outputs": [],
   "source": [
    "data_validation = data_validation.drop(['Date' ], 1)\n",
    "data_train = data_train.drop(['Date' ], 1)"
   ]
  },
  {
   "cell_type": "code",
   "execution_count": null,
   "id": "056d4ee9",
   "metadata": {},
   "outputs": [],
   "source": [
    "y_data_train = data_train['Close'].copy()\n",
    "X_data_train = data_train.drop(['Close'], 1)\n",
    "\n",
    "y_data_validation = data_validation['Close'].copy()\n",
    "X_data_validation = data_validation.drop(['Close'], 1)"
   ]
  },
  {
   "cell_type": "code",
   "execution_count": null,
   "id": "f75339e4",
   "metadata": {},
   "outputs": [],
   "source": [
    "from sklearn.model_selection import  GridSearchCV,TimeSeriesSplit, cross_validate\n",
    "from sklearn.pipeline import Pipeline\n",
    "from sklearn.preprocessing import StandardScaler\n",
    "sc= StandardScaler() # Scaling the data before processing\n",
    "tscv = TimeSeriesSplit(n_splits=5 ) # The train-test split for the cross validation"
   ]
  },
  {
   "cell_type": "code",
   "execution_count": null,
   "id": "798df8ad",
   "metadata": {},
   "outputs": [],
   "source": [
    "x= data_train.loc[:, data_train.columns != 'Close'].to_numpy() \n",
    "y= data_train.loc[:, 'Close'].to_numpy()"
   ]
  },
  {
   "cell_type": "code",
   "execution_count": null,
   "id": "0aa63ffa",
   "metadata": {},
   "outputs": [],
   "source": [
    "from sklearn import linear_model\n",
    "ll= linear_model.Lasso()\n",
    "pipe= Pipeline(steps=[('imputer', imputer),('scaler', sc),('regressor', ll)])\n",
    "param_grid = {\n",
    "    'regressor__alpha':[0.0000001,0.000001,0.0001, 0.001, 0.01, 0.1],       \n",
    "}\n",
    "search_lasso = GridSearchCV(pipe, param_grid, n_jobs=-1)\n",
    "scores_lasso = cross_validate(search_lasso, x, y, scoring=['r2','neg_mean_squared_error'],cv=tscv)"
   ]
  },
  {
   "cell_type": "code",
   "execution_count": null,
   "id": "66a0547d",
   "metadata": {},
   "outputs": [],
   "source": [
    "print('Fold r2', scores_lasso['test_r2'])\n",
    "print('Average r2', np.mean(scores_lasso['test_r2']))\n",
    "print('Fold NMSE', scores_lasso['test_neg_mean_squared_error'])\n",
    "print('Average NMSE', np.mean(scores_lasso['test_neg_mean_squared_error']))"
   ]
  },
  {
   "cell_type": "code",
   "execution_count": null,
   "id": "2a1f71c3",
   "metadata": {},
   "outputs": [],
   "source": [
    "search_lasso.fit(x,y)\n",
    "search_lasso.best_params_"
   ]
  },
  {
   "cell_type": "code",
   "execution_count": null,
   "id": "5c2d1551",
   "metadata": {},
   "outputs": [],
   "source": [
    "from sklearn.linear_model import LinearRegression\n",
    "lr= LinearRegression()\n",
    "pipe= Pipeline(steps=[('imputer', imputer),('scaler', sc),('regressor', lr)])\n",
    "param_grid = {\n",
    "    'regressor__fit_intercept':[True, False],       \n",
    "}\n",
    "search_linear = GridSearchCV(pipe, param_grid, n_jobs=-1)\n",
    "scores_linear = cross_validate(search_linear, x, y, scoring=['r2','neg_mean_squared_error'],cv=tscv)"
   ]
  },
  {
   "cell_type": "code",
   "execution_count": null,
   "id": "d0db8f38",
   "metadata": {},
   "outputs": [],
   "source": [
    "print('Fold r2', scores_linear['test_r2'])\n",
    "print('Average r2', np.mean(scores_linear['test_r2']))\n",
    "print('Fold NMSE', scores_linear['test_neg_mean_squared_error'])\n",
    "print('Average NMSE', np.mean(scores_linear['test_neg_mean_squared_error']))"
   ]
  },
  {
   "cell_type": "code",
   "execution_count": null,
   "id": "089047fb",
   "metadata": {},
   "outputs": [],
   "source": [
    "search_linear.fit(x,y)\n",
    "search_linear.best_params_"
   ]
  },
  {
   "cell_type": "code",
   "execution_count": null,
   "id": "79e9ff78",
   "metadata": {},
   "outputs": [],
   "source": [
    "from hyperopt import tpe, hp, fmin, STATUS_OK,Trials, space_eval\n",
    "from hyperopt.pyll.base import scope"
   ]
  },
  {
   "cell_type": "markdown",
   "id": "1cbfe613",
   "metadata": {},
   "source": [
    "## SVC"
   ]
  },
  {
   "cell_type": "code",
   "execution_count": null,
   "id": "131e9619",
   "metadata": {},
   "outputs": [],
   "source": [
    "from sklearn.model_selection import cross_val_score, cross_validate"
   ]
  },
  {
   "cell_type": "code",
   "execution_count": null,
   "id": "0635449b",
   "metadata": {},
   "outputs": [],
   "source": [
    "scoring = {'r2': 'r2',\n",
    "           'neg_mean_squared_error': 'neg_mean_squared_error'\n",
    "          }"
   ]
  },
  {
   "cell_type": "code",
   "execution_count": null,
   "id": "db9c4cf2",
   "metadata": {},
   "outputs": [],
   "source": [
    "def objective(params, random_state=42, cv=tscv, x=x, y=y):\n",
    "    score = cross_val_score(pipe, x, y,cv=tscv, scoring = 'neg_mean_squared_error', n_jobs=-1).mean()\n",
    "    return score"
   ]
  },
  {
   "cell_type": "code",
   "execution_count": null,
   "id": "6aa96506",
   "metadata": {},
   "outputs": [],
   "source": [
    "def metric(params, random_state=42, cv=tscv, x=x, y=y):\n",
    "\n",
    "    score = cross_validate(pipe, x, y,cv=tscv, scoring = scoring, n_jobs=-1)\n",
    "    return score"
   ]
  },
  {
   "cell_type": "code",
   "execution_count": null,
   "id": "f429a064",
   "metadata": {},
   "outputs": [],
   "source": [
    "space = {\n",
    "                 \n",
    "            'regressor__C': hp.choice('regressor__C', [10, 100, 1000, 10000]),\n",
    "            'regressor__gamma': hp.choice('regressor__gamma', [0.0000001,0.000001,0.0001, 0.001, 0.01, 0.1]),\n",
    "            'regressor__kernel': hp.choice('regressor__kernel', ['linear','poly', 'rbf','sigmoid'])\n",
    "}\n"
   ]
  },
  {
   "cell_type": "code",
   "execution_count": null,
   "id": "ce4f4841",
   "metadata": {},
   "outputs": [],
   "source": [
    "from sklearn.svm import SVR\n",
    "SV= SVR()\n",
    "\n",
    "pipe= Pipeline(steps=[('imputer', imputer),('scaler', sc),('regressor', SV)])\n",
    "trials = Trials()\n",
    "best_param_SVC=fmin(fn=objective, # function to optimize\n",
    "          space=space, \n",
    "          algo=tpe.suggest, # optimization algorithm, hyperotp will select its parameters automatically\n",
    "          trials=trials, # logging\n",
    "          max_evals=100, # maximum number of iterations\n",
    "          rstate=np.random.default_rng(42) # fixing random state for the reproducibility\n",
    "         )\n",
    "metrics = metric(best_param_SVC, cv=tscv, x=x, y=y)\n"
   ]
  },
  {
   "cell_type": "code",
   "execution_count": null,
   "id": "23cdec21",
   "metadata": {},
   "outputs": [],
   "source": [
    "print('Fold r2', metrics['test_r2'])\n",
    "print('Average r2', np.mean(metrics['test_r2']))\n",
    "print('Fold NMSE', metrics['test_neg_mean_squared_error'])\n",
    "print('Average NMSE', np.mean(metrics['test_neg_mean_squared_error']))"
   ]
  },
  {
   "cell_type": "code",
   "execution_count": null,
   "id": "9e01a776",
   "metadata": {},
   "outputs": [],
   "source": [
    "space_eval(space, best_param_SVC)"
   ]
  },
  {
   "cell_type": "code",
   "execution_count": null,
   "id": "85ec8ef9",
   "metadata": {},
   "outputs": [],
   "source": [
    "pipeSVR= pipe.set_params(**space_eval(space, best_param_SVC))"
   ]
  },
  {
   "cell_type": "code",
   "execution_count": null,
   "id": "cbb3840a",
   "metadata": {},
   "outputs": [],
   "source": [
    "pipeSVR.fit(x,y)"
   ]
  },
  {
   "cell_type": "markdown",
   "id": "5c8b9636",
   "metadata": {},
   "source": [
    "## RF"
   ]
  },
  {
   "cell_type": "code",
   "execution_count": null,
   "id": "3dd8d7e6",
   "metadata": {},
   "outputs": [],
   "source": [
    "space = {\n",
    "            'regressor__n_estimators': hp.choice('regressor__n_estimators', range(200,10000, 100)),\n",
    "            'regressor__max_depth': hp.quniform('regressor__max_depth', 1, 30, 1),\n",
    "            #\"regressor__criterion\": hp.choice(\"regressor__criterion\", [\"gini\", \"entropy\"]),\n",
    "            'regressor__max_features': hp.choice('regressor__max_features', range(1,8, 1)),\n",
    "            'regressor__min_samples_leaf':hp.choice('regressor__min_samples_leaf',range(1,8, 1)),\n",
    "            'regressor__min_samples_split':hp.choice('regressor__min_samples_split',range(2,40, 1))\n",
    "}"
   ]
  },
  {
   "cell_type": "code",
   "execution_count": null,
   "id": "28671a1d",
   "metadata": {},
   "outputs": [],
   "source": [
    "from sklearn.ensemble import RandomForestRegressor\n",
    "\n",
    "regr = RandomForestRegressor( verbose=True)\n",
    "pipe= Pipeline(steps=[('imputer', imputer),('scaler', sc),('regressor', regr)])\n",
    "\n",
    "trials = Trials()\n",
    "\n",
    "\n",
    "best_param_RF=fmin(fn=objective, # function to optimize\n",
    "          space=space, \n",
    "          algo=tpe.suggest, # optimization algorithm, hyperotp will select its parameters automatically\n",
    "          trials=trials, # logging\n",
    "          max_evals=100, # maximum number of iterations\n",
    "          rstate=np.random.default_rng(42) # fixing random state for the reproducibility\n",
    "         )\n",
    "\n",
    "\n",
    "\n",
    "metrics = metric(best_param_RF, cv=tscv, x=x, y=y)"
   ]
  },
  {
   "cell_type": "code",
   "execution_count": null,
   "id": "ac225582",
   "metadata": {},
   "outputs": [],
   "source": [
    "print('Fold r2', metrics['test_r2'])\n",
    "print('Average r2', np.mean(metrics['test_r2']))\n",
    "print('Fold NMSE', metrics['test_neg_mean_squared_error'])\n",
    "print('Average NMSE', np.mean(metrics['test_neg_mean_squared_error']))"
   ]
  },
  {
   "cell_type": "code",
   "execution_count": null,
   "id": "e66ac28b",
   "metadata": {},
   "outputs": [],
   "source": [
    "space_eval(space, best_param_RF)"
   ]
  },
  {
   "cell_type": "code",
   "execution_count": null,
   "id": "944a4e44",
   "metadata": {},
   "outputs": [],
   "source": [
    "pipeRF=pipe.set_params(**space_eval(space, best_param_RF))"
   ]
  },
  {
   "cell_type": "code",
   "execution_count": null,
   "id": "d765d9b2",
   "metadata": {},
   "outputs": [],
   "source": [
    "pipeRF.fit(x,y)"
   ]
  },
  {
   "cell_type": "markdown",
   "id": "9e0c1fe3",
   "metadata": {},
   "source": [
    "## GBM"
   ]
  },
  {
   "cell_type": "code",
   "execution_count": null,
   "id": "fb0c88ec",
   "metadata": {},
   "outputs": [],
   "source": [
    "space = {\n",
    "    'regressor__n_estimators':     hp.choice('regressor__n_estimators', range(200,10000, 100)),\n",
    "    'regressor__learning_rate':    hp.choice('regressor__learning_rate',    np.arange(0.05, 0.99, 0.05)),\n",
    "    'regressor__max_depth':        hp.choice('regressor__max_depth',        np.arange(2, 16, 1, dtype=int)),\n",
    "    'regressor__subsample':        hp.uniform('regressor__subsample', 0.8, 1),\n",
    "    'regressor__min_samples_leaf': hp.choice('regressor__min_samples_leaf',range(1,40, 1)),\n",
    "    'regressor__min_samples_split':hp.choice('regressor__min_samples_split',range(2,40, 1))\n",
    "    \n",
    "}"
   ]
  },
  {
   "cell_type": "code",
   "execution_count": null,
   "id": "7bbfa860",
   "metadata": {},
   "outputs": [],
   "source": [
    "from sklearn.ensemble import GradientBoostingRegressor\n",
    "\n",
    "regr = GradientBoostingRegressor( verbose=True)\n",
    "pipe= Pipeline(steps=[('imputer', imputer),('scaler', sc),('regressor', regr)])\n",
    "\n",
    "trials = Trials()\n",
    "\n",
    "\n",
    "best_param_GBM=fmin(fn=objective, # function to optimize\n",
    "          space=space, \n",
    "          algo=tpe.suggest, # optimization algorithm, hyperotp will select its parameters automatically\n",
    "          trials=trials, # logging\n",
    "          max_evals=100, # maximum number of iterations\n",
    "         rstate=np.random.default_rng(42) # fixing random state for the reproducibility\n",
    "         )\n",
    "\n",
    "\n",
    "\n",
    "metrics = metric(best_param_GBM, cv=tscv, x=x, y=y)\n"
   ]
  },
  {
   "cell_type": "code",
   "execution_count": null,
   "id": "b6830bed",
   "metadata": {},
   "outputs": [],
   "source": [
    "print('Fold r2', metrics['test_r2'])\n",
    "print('Average r2', np.mean(metrics['test_r2']))\n",
    "print('Fold NMSE', metrics['test_neg_mean_squared_error'])\n",
    "print('Average NMSE', np.mean(metrics['test_neg_mean_squared_error']))"
   ]
  },
  {
   "cell_type": "code",
   "execution_count": null,
   "id": "d8115f5b",
   "metadata": {},
   "outputs": [],
   "source": [
    "space_eval(space, best_param_GBM)"
   ]
  },
  {
   "cell_type": "code",
   "execution_count": null,
   "id": "386e9be7",
   "metadata": {},
   "outputs": [],
   "source": [
    "pipeGBM=pipe.set_params(**space_eval(space, best_param_GBM))"
   ]
  },
  {
   "cell_type": "code",
   "execution_count": null,
   "id": "939ad4fd",
   "metadata": {},
   "outputs": [],
   "source": [
    "pipeGBM.fit(x,y)"
   ]
  },
  {
   "cell_type": "code",
   "execution_count": null,
   "id": "5a423eb0",
   "metadata": {},
   "outputs": [],
   "source": [
    "x_valid= data_validation.loc[:, data_validation.columns != 'Close'].to_numpy() \n",
    "y_valid= data_validation.loc[:, 'Close'].to_numpy()"
   ]
  },
  {
   "cell_type": "code",
   "execution_count": null,
   "id": "ec269932",
   "metadata": {},
   "outputs": [],
   "source": [
    "predicted_prices = data.loc[int(data.shape[0] * (1-validation_size)):].copy()\n",
    "\n",
    "fig = make_subplots(rows=1, cols=1)\n",
    "\n",
    "fig.add_trace(go.Scatter(x=predicted_prices.Date,\n",
    "                         y=y_valid,\n",
    "                         name='Truth',\n",
    "                         marker_color='LightSkyBlue',\n",
    "                         showlegend=True), row=1, col=1)\n",
    "\n",
    "\n",
    "fig.add_trace(go.Scatter(x=predicted_prices.Date,\n",
    "                         y=pipeSVR.predict(x_valid),\n",
    "                         name='Prediction_SVR',\n",
    "                         marker_color='Red',\n",
    "                         showlegend=True), row=1, col=1)\n",
    "\n",
    "fig.add_trace(go.Scatter(x=predicted_prices.Date,\n",
    "                         y=pipeGBM.predict(x_valid),\n",
    "                         name='Prediction_GBM',\n",
    "                         marker_color='Purple',\n",
    "                         showlegend=True), row=1, col=1)\n",
    "\n",
    "fig.add_trace(go.Scatter(x=predicted_prices.Date,\n",
    "                         y=pipeRF.predict(x_valid),\n",
    "                         name='Prediction_RF',\n",
    "                         marker_color='Green',\n",
    "                         showlegend=True), row=1, col=1)\n",
    "\n",
    "fig.add_trace(go.Scatter(x=predicted_prices.Date,\n",
    "                         y=search_lasso.predict(x_valid),\n",
    "                         name='Prediction_lasso',\n",
    "                         marker_color='Black',\n",
    "                         showlegend=True), row=1, col=1)\n",
    "\n",
    "\n",
    "fig.add_trace(go.Scatter(x=predicted_prices.Date,\n",
    "                         y=search_linear.predict(x_valid),\n",
    "                         name='Prediction_Linear_regression',\n",
    "                         marker_color='Grey',\n",
    "                         showlegend=True), row=1, col=1)\n",
    "fig.show()"
   ]
  },
  {
   "cell_type": "code",
   "execution_count": null,
   "id": "bc9e4b95",
   "metadata": {},
   "outputs": [],
   "source": [
    "coefs = pd.DataFrame(\n",
    "   search_lasso.best_estimator_.named_steps[\"regressor\"].coef_,\n",
    "   columns=['Coefficients'], index=data_train.loc[:, data_train.columns != 'Close'].columns\n",
    ")\n",
    "\n",
    "coefs.plot(kind='barh', figsize=(9, 7))\n",
    "plt.title('Lasso model')\n",
    "plt.axvline(x=0, color='.5')\n",
    "plt.subplots_adjust(left=.3)"
   ]
  },
  {
   "cell_type": "code",
   "execution_count": null,
   "id": "005648ad",
   "metadata": {},
   "outputs": [],
   "source": [
    "coefs = pd.DataFrame(\n",
    "   search_linear.best_estimator_.named_steps[\"regressor\"].coef_,\n",
    "   columns=['Coefficients'], index=data_train.loc[:, data_train.columns != 'Close'].columns\n",
    ")\n",
    "\n",
    "coefs.plot(kind='barh', figsize=(9, 7))\n",
    "plt.title('Linear Regression model')\n",
    "plt.axvline(x=0, color='.5')\n",
    "plt.subplots_adjust(left=.3)"
   ]
  },
  {
   "cell_type": "code",
   "execution_count": null,
   "id": "fb49e4ab",
   "metadata": {},
   "outputs": [],
   "source": [
    "coefs = pd.DataFrame(\n",
    "   pipeSVR.named_steps[\"regressor\"].coef_[0],\n",
    "   columns=['Coefficients'], index=data_train.loc[:, data_train.columns != 'Close'].columns\n",
    ")\n",
    "\n",
    "coefs.plot(kind='barh', figsize=(9, 7))\n",
    "plt.title('SVR Model')\n",
    "plt.axvline(x=0, color='.5')\n",
    "plt.subplots_adjust(left=.3)\n"
   ]
  },
  {
   "cell_type": "code",
   "execution_count": null,
   "id": "075f4a3e",
   "metadata": {},
   "outputs": [],
   "source": [
    "coefs = pd.DataFrame(\n",
    "   pipeGBM.named_steps[\"regressor\"].feature_importances_,\n",
    "   columns=['Coefficients'], index=data_train.loc[:, data_train.columns != 'Close'].columns\n",
    ")\n",
    "\n",
    "coefs.plot(kind='barh', figsize=(9, 7))\n",
    "plt.title('Gradient boost Model')\n",
    "plt.axvline(x=0, color='.5')\n",
    "plt.subplots_adjust(left=.3)\n"
   ]
  },
  {
   "cell_type": "code",
   "execution_count": null,
   "id": "b0acc375",
   "metadata": {},
   "outputs": [],
   "source": [
    "coefs = pd.DataFrame(\n",
    "   pipeRF.named_steps[\"regressor\"].feature_importances_,\n",
    "   columns=['Coefficients'], index=data_train.loc[:, data_train.columns != 'Close'].columns\n",
    ")\n",
    "\n",
    "coefs.plot(kind='barh', figsize=(9, 7))\n",
    "plt.title('Randon Forest Model')\n",
    "plt.axvline(x=0, color='.5')\n",
    "plt.subplots_adjust(left=.3)"
   ]
  },
  {
   "cell_type": "markdown",
   "id": "1c241fda",
   "metadata": {},
   "source": [
    "## test"
   ]
  },
  {
   "cell_type": "code",
   "execution_count": null,
   "id": "f5da4cd3",
   "metadata": {},
   "outputs": [],
   "source": []
  }
 ],
 "metadata": {
  "kernelspec": {
   "display_name": "Python 3",
   "language": "python",
   "name": "python3"
  },
  "language_info": {
   "codemirror_mode": {
    "name": "ipython",
    "version": 3
   },
   "file_extension": ".py",
   "mimetype": "text/x-python",
   "name": "python",
   "nbconvert_exporter": "python",
   "pygments_lexer": "ipython3",
   "version": "3.8.8"
  }
 },
 "nbformat": 4,
 "nbformat_minor": 5
}
